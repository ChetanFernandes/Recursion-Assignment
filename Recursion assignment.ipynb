{
 "cells": [
  {
   "cell_type": "code",
   "execution_count": 45,
   "id": "a235cac6-ccc9-4e68-acfa-bef4bea6af4c",
   "metadata": {},
   "outputs": [
    {
     "data": {
      "text/plain": [
       "7"
      ]
     },
     "execution_count": 45,
     "metadata": {},
     "output_type": "execute_result"
    }
   ],
   "source": [
    "# Problem - 1 - Tower of Hanoi\n",
    "def towerHanoi(n,a,b,c):\n",
    "    if n == 1:\n",
    "        return n\n",
    "    return towerHanoi(n-2,a,c,b) +1+1+1+1+1+1\n",
    "\n",
    "towerHanoi(3,'a','b','c')"
   ]
  },
  {
   "cell_type": "code",
   "execution_count": 47,
   "id": "8d357d19-2d35-4489-b661-198a8ee8a30c",
   "metadata": {},
   "outputs": [
    {
     "data": {
      "text/plain": [
       "3"
      ]
     },
     "execution_count": 47,
     "metadata": {},
     "output_type": "execute_result"
    }
   ],
   "source": [
    "# Q.2 Given two strings word1 and word2, return the minimum number of operations required to convert word1 to word2\n",
    "def editDistance(str1,str2,m,n):\n",
    "    if m == 0:\n",
    "        return n\n",
    "    \n",
    "    if n == 0:\n",
    "        return m\n",
    "    \n",
    "    if str1[m-1] == str2[n-1]:\n",
    "        return editDistance(str1, str2, m-1, n-1)\n",
    "\n",
    "    \n",
    "    return 1 + min(editDistance(str1,str2,m,n-1), \n",
    "                   editDistance(str1,str2,m-1,n),\n",
    "                   editDistance(str1,str2,m-1,n-1))\n",
    "    \n",
    "    \n",
    "str1 = \"horse\"\n",
    "str2 = \"ros\"\n",
    "editDistance(str1, str2, len(str1), len(str2))"
   ]
  },
  {
   "cell_type": "code",
   "execution_count": 12,
   "id": "f5bc548a-5057-4cc5-bf0d-f5f92c20b8b8",
   "metadata": {},
   "outputs": [
    {
     "data": {
      "text/plain": [
       "22"
      ]
     },
     "execution_count": 12,
     "metadata": {},
     "output_type": "execute_result"
    }
   ],
   "source": [
    "#Problem 3\n",
    "# Print the max value of the array [13,1,-3,22,5]\n",
    "def maximum(arr, SI):\n",
    "    if SI > len(arr)-1:\n",
    "        return -1\n",
    "    return max(arr[SI], maximum(arr, SI+1))\n",
    "               \n",
    "arr = [13,1,-3,22,5]\n",
    "maximum(arr,0)"
   ]
  },
  {
   "cell_type": "code",
   "execution_count": 52,
   "id": "8a358e85-f239-4e29-96fd-0ccba96b5072",
   "metadata": {},
   "outputs": [
    {
     "data": {
      "text/plain": [
       "120"
      ]
     },
     "execution_count": 52,
     "metadata": {},
     "output_type": "execute_result"
    }
   ],
   "source": [
    "#Problem 4\n",
    "# Find the sum of values of the array [92,23,15,-20,10]\n",
    "def sumArray(arr, SI):\n",
    "    if SI > len(arr)-1:\n",
    "        return 0\n",
    "    \n",
    "    return arr[SI] + sumArray(arr, SI+1)\n",
    "             \n",
    "arr = [92,23,15,-20,10]\n",
    "sumArray(arr,0)"
   ]
  },
  {
   "cell_type": "code",
   "execution_count": 149,
   "id": "af565608-7d75-462b-b524-3e9058b7716b",
   "metadata": {},
   "outputs": [
    {
     "name": "stdout",
     "output_type": "stream",
     "text": [
      "Given Number is palindrome\n"
     ]
    }
   ],
   "source": [
    "#Problem 5\n",
    "# Find the given number is armstrong or not\n",
    "\n",
    "def findArmstrong(Number,pow):\n",
    "    \n",
    "    if Number == 0:\n",
    "        return 0\n",
    "    \n",
    "    a = int(Number%10)\n",
    "    b = int(Number//10)\n",
    "    \n",
    "    return a**pow + findArmstrong(b,pow)\n",
    "\n",
    "Number = 153\n",
    "sum = findArmstrong(Number,3)\n",
    "\n",
    "if sum == Number:\n",
    "    print(\"Given Number is palindrome\")\n",
    "else:\n",
    "    print(\"Number is not palindrome\")"
   ]
  },
  {
   "cell_type": "code",
   "execution_count": null,
   "id": "1f21622c-dda7-4c1b-9015-405134443dc8",
   "metadata": {},
   "outputs": [],
   "source": []
  }
 ],
 "metadata": {
  "kernelspec": {
   "display_name": "Python 3 (ipykernel)",
   "language": "python",
   "name": "python3"
  },
  "language_info": {
   "codemirror_mode": {
    "name": "ipython",
    "version": 3
   },
   "file_extension": ".py",
   "mimetype": "text/x-python",
   "name": "python",
   "nbconvert_exporter": "python",
   "pygments_lexer": "ipython3",
   "version": "3.10.8"
  }
 },
 "nbformat": 4,
 "nbformat_minor": 5
}
